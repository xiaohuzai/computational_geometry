{
 "cells": [
  {
   "cell_type": "code",
   "execution_count": 2,
   "metadata": {},
   "outputs": [],
   "source": [
    "import CG.x64.Debug.CG as CG\n",
    "import unittest\n",
    "import numpy as np\n",
    "import time"
   ]
  },
  {
   "cell_type": "code",
   "execution_count": 8,
   "metadata": {},
   "outputs": [],
   "source": [
    "def gen_points(m: int) -> CG.Point2DVector:\n",
    "    x = np.random.rand(m)\n",
    "    y = np.random.rand(m)\n",
    "    res = CG.Point2DVector()\n",
    "    for i in range(len(x)):\n",
    "        res.append(CG.Point2D(x[i], y[i]))\n",
    "    return res"
   ]
  }
 ],
 "metadata": {
  "kernelspec": {
   "display_name": "Python 3.9.12 ('cgenv': venv)",
   "language": "python",
   "name": "python3"
  },
  "language_info": {
   "codemirror_mode": {
    "name": "ipython",
    "version": 3
   },
   "file_extension": ".py",
   "mimetype": "text/x-python",
   "name": "python",
   "nbconvert_exporter": "python",
   "pygments_lexer": "ipython3",
   "version": "3.9.12"
  },
  "orig_nbformat": 4,
  "vscode": {
   "interpreter": {
    "hash": "18d3202d6930b34e50a9d9d322cd9886a5675ff0c7b28b48dc477049568f5428"
   }
  }
 },
 "nbformat": 4,
 "nbformat_minor": 2
}
