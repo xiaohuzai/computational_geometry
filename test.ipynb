{
 "cells": [
  {
   "cell_type": "code",
   "execution_count": 1,
   "metadata": {},
   "outputs": [
    {
     "data": {
      "text/html": [
       "<div class=\"bk-root\">\n",
       "        <a href=\"https://bokeh.org\" target=\"_blank\" class=\"bk-logo bk-logo-small bk-logo-notebook\"></a>\n",
       "        <span id=\"1002\">Loading BokehJS ...</span>\n",
       "    </div>\n"
      ]
     },
     "metadata": {},
     "output_type": "display_data"
    },
    {
     "data": {
      "application/javascript": "(function(root) {\n  function now() {\n    return new Date();\n  }\n\n  const force = true;\n\n  if (typeof root._bokeh_onload_callbacks === \"undefined\" || force === true) {\n    root._bokeh_onload_callbacks = [];\n    root._bokeh_is_loading = undefined;\n  }\n\nconst JS_MIME_TYPE = 'application/javascript';\n  const HTML_MIME_TYPE = 'text/html';\n  const EXEC_MIME_TYPE = 'application/vnd.bokehjs_exec.v0+json';\n  const CLASS_NAME = 'output_bokeh rendered_html';\n\n  /**\n   * Render data to the DOM node\n   */\n  function render(props, node) {\n    const script = document.createElement(\"script\");\n    node.appendChild(script);\n  }\n\n  /**\n   * Handle when an output is cleared or removed\n   */\n  function handleClearOutput(event, handle) {\n    const cell = handle.cell;\n\n    const id = cell.output_area._bokeh_element_id;\n    const server_id = cell.output_area._bokeh_server_id;\n    // Clean up Bokeh references\n    if (id != null && id in Bokeh.index) {\n      Bokeh.index[id].model.document.clear();\n      delete Bokeh.index[id];\n    }\n\n    if (server_id !== undefined) {\n      // Clean up Bokeh references\n      const cmd_clean = \"from bokeh.io.state import curstate; print(curstate().uuid_to_server['\" + server_id + \"'].get_sessions()[0].document.roots[0]._id)\";\n      cell.notebook.kernel.execute(cmd_clean, {\n        iopub: {\n          output: function(msg) {\n            const id = msg.content.text.trim();\n            if (id in Bokeh.index) {\n              Bokeh.index[id].model.document.clear();\n              delete Bokeh.index[id];\n            }\n          }\n        }\n      });\n      // Destroy server and session\n      const cmd_destroy = \"import bokeh.io.notebook as ion; ion.destroy_server('\" + server_id + \"')\";\n      cell.notebook.kernel.execute(cmd_destroy);\n    }\n  }\n\n  /**\n   * Handle when a new output is added\n   */\n  function handleAddOutput(event, handle) {\n    const output_area = handle.output_area;\n    const output = handle.output;\n\n    // limit handleAddOutput to display_data with EXEC_MIME_TYPE content only\n    if ((output.output_type != \"display_data\") || (!Object.prototype.hasOwnProperty.call(output.data, EXEC_MIME_TYPE))) {\n      return\n    }\n\n    const toinsert = output_area.element.find(\".\" + CLASS_NAME.split(' ')[0]);\n\n    if (output.metadata[EXEC_MIME_TYPE][\"id\"] !== undefined) {\n      toinsert[toinsert.length - 1].firstChild.textContent = output.data[JS_MIME_TYPE];\n      // store reference to embed id on output_area\n      output_area._bokeh_element_id = output.metadata[EXEC_MIME_TYPE][\"id\"];\n    }\n    if (output.metadata[EXEC_MIME_TYPE][\"server_id\"] !== undefined) {\n      const bk_div = document.createElement(\"div\");\n      bk_div.innerHTML = output.data[HTML_MIME_TYPE];\n      const script_attrs = bk_div.children[0].attributes;\n      for (let i = 0; i < script_attrs.length; i++) {\n        toinsert[toinsert.length - 1].firstChild.setAttribute(script_attrs[i].name, script_attrs[i].value);\n        toinsert[toinsert.length - 1].firstChild.textContent = bk_div.children[0].textContent\n      }\n      // store reference to server id on output_area\n      output_area._bokeh_server_id = output.metadata[EXEC_MIME_TYPE][\"server_id\"];\n    }\n  }\n\n  function register_renderer(events, OutputArea) {\n\n    function append_mime(data, metadata, element) {\n      // create a DOM node to render to\n      const toinsert = this.create_output_subarea(\n        metadata,\n        CLASS_NAME,\n        EXEC_MIME_TYPE\n      );\n      this.keyboard_manager.register_events(toinsert);\n      // Render to node\n      const props = {data: data, metadata: metadata[EXEC_MIME_TYPE]};\n      render(props, toinsert[toinsert.length - 1]);\n      element.append(toinsert);\n      return toinsert\n    }\n\n    /* Handle when an output is cleared or removed */\n    events.on('clear_output.CodeCell', handleClearOutput);\n    events.on('delete.Cell', handleClearOutput);\n\n    /* Handle when a new output is added */\n    events.on('output_added.OutputArea', handleAddOutput);\n\n    /**\n     * Register the mime type and append_mime function with output_area\n     */\n    OutputArea.prototype.register_mime_type(EXEC_MIME_TYPE, append_mime, {\n      /* Is output safe? */\n      safe: true,\n      /* Index of renderer in `output_area.display_order` */\n      index: 0\n    });\n  }\n\n  // register the mime type if in Jupyter Notebook environment and previously unregistered\n  if (root.Jupyter !== undefined) {\n    const events = require('base/js/events');\n    const OutputArea = require('notebook/js/outputarea').OutputArea;\n\n    if (OutputArea.prototype.mime_types().indexOf(EXEC_MIME_TYPE) == -1) {\n      register_renderer(events, OutputArea);\n    }\n  }\n  if (typeof (root._bokeh_timeout) === \"undefined\" || force === true) {\n    root._bokeh_timeout = Date.now() + 5000;\n    root._bokeh_failed_load = false;\n  }\n\n  const NB_LOAD_WARNING = {'data': {'text/html':\n     \"<div style='background-color: #fdd'>\\n\"+\n     \"<p>\\n\"+\n     \"BokehJS does not appear to have successfully loaded. If loading BokehJS from CDN, this \\n\"+\n     \"may be due to a slow or bad network connection. Possible fixes:\\n\"+\n     \"</p>\\n\"+\n     \"<ul>\\n\"+\n     \"<li>re-rerun `output_notebook()` to attempt to load from CDN again, or</li>\\n\"+\n     \"<li>use INLINE resources instead, as so:</li>\\n\"+\n     \"</ul>\\n\"+\n     \"<code>\\n\"+\n     \"from bokeh.resources import INLINE\\n\"+\n     \"output_notebook(resources=INLINE)\\n\"+\n     \"</code>\\n\"+\n     \"</div>\"}};\n\n  function display_loaded() {\n    const el = document.getElementById(\"1002\");\n    if (el != null) {\n      el.textContent = \"BokehJS is loading...\";\n    }\n    if (root.Bokeh !== undefined) {\n      if (el != null) {\n        el.textContent = \"BokehJS \" + root.Bokeh.version + \" successfully loaded.\";\n      }\n    } else if (Date.now() < root._bokeh_timeout) {\n      setTimeout(display_loaded, 100)\n    }\n  }\n\n  function run_callbacks() {\n    try {\n      root._bokeh_onload_callbacks.forEach(function(callback) {\n        if (callback != null)\n          callback();\n      });\n    } finally {\n      delete root._bokeh_onload_callbacks\n    }\n    console.debug(\"Bokeh: all callbacks have finished\");\n  }\n\n  function load_libs(css_urls, js_urls, callback) {\n    if (css_urls == null) css_urls = [];\n    if (js_urls == null) js_urls = [];\n\n    root._bokeh_onload_callbacks.push(callback);\n    if (root._bokeh_is_loading > 0) {\n      console.debug(\"Bokeh: BokehJS is being loaded, scheduling callback at\", now());\n      return null;\n    }\n    if (js_urls == null || js_urls.length === 0) {\n      run_callbacks();\n      return null;\n    }\n    console.debug(\"Bokeh: BokehJS not loaded, scheduling load and callback at\", now());\n    root._bokeh_is_loading = css_urls.length + js_urls.length;\n\n    function on_load() {\n      root._bokeh_is_loading--;\n      if (root._bokeh_is_loading === 0) {\n        console.debug(\"Bokeh: all BokehJS libraries/stylesheets loaded\");\n        run_callbacks()\n      }\n    }\n\n    function on_error(url) {\n      console.error(\"failed to load \" + url);\n    }\n\n    for (let i = 0; i < css_urls.length; i++) {\n      const url = css_urls[i];\n      const element = document.createElement(\"link\");\n      element.onload = on_load;\n      element.onerror = on_error.bind(null, url);\n      element.rel = \"stylesheet\";\n      element.type = \"text/css\";\n      element.href = url;\n      console.debug(\"Bokeh: injecting link tag for BokehJS stylesheet: \", url);\n      document.body.appendChild(element);\n    }\n\n    for (let i = 0; i < js_urls.length; i++) {\n      const url = js_urls[i];\n      const element = document.createElement('script');\n      element.onload = on_load;\n      element.onerror = on_error.bind(null, url);\n      element.async = false;\n      element.src = url;\n      console.debug(\"Bokeh: injecting script tag for BokehJS library: \", url);\n      document.head.appendChild(element);\n    }\n  };\n\n  function inject_raw_css(css) {\n    const element = document.createElement(\"style\");\n    element.appendChild(document.createTextNode(css));\n    document.body.appendChild(element);\n  }\n\n  const js_urls = [\"https://cdn.bokeh.org/bokeh/release/bokeh-2.4.3.min.js\", \"https://cdn.bokeh.org/bokeh/release/bokeh-gl-2.4.3.min.js\", \"https://cdn.bokeh.org/bokeh/release/bokeh-widgets-2.4.3.min.js\", \"https://cdn.bokeh.org/bokeh/release/bokeh-tables-2.4.3.min.js\", \"https://cdn.bokeh.org/bokeh/release/bokeh-mathjax-2.4.3.min.js\"];\n  const css_urls = [];\n\n  const inline_js = [    function(Bokeh) {\n      Bokeh.set_log_level(\"info\");\n    },\nfunction(Bokeh) {\n    }\n  ];\n\n  function run_inline_js() {\n    if (root.Bokeh !== undefined || force === true) {\n          for (let i = 0; i < inline_js.length; i++) {\n      inline_js[i].call(root, root.Bokeh);\n    }\nif (force === true) {\n        display_loaded();\n      }} else if (Date.now() < root._bokeh_timeout) {\n      setTimeout(run_inline_js, 100);\n    } else if (!root._bokeh_failed_load) {\n      console.log(\"Bokeh: BokehJS failed to load within specified timeout.\");\n      root._bokeh_failed_load = true;\n    } else if (force !== true) {\n      const cell = $(document.getElementById(\"1002\")).parents('.cell').data().cell;\n      cell.output_area.append_execute_result(NB_LOAD_WARNING)\n    }\n  }\n\n  if (root._bokeh_is_loading === 0) {\n    console.debug(\"Bokeh: BokehJS loaded, going straight to plotting\");\n    run_inline_js();\n  } else {\n    load_libs(css_urls, js_urls, function() {\n      console.debug(\"Bokeh: BokehJS plotting callback run at\", now());\n      run_inline_js();\n    });\n  }\n}(window));",
      "application/vnd.bokehjs_load.v0+json": ""
     },
     "metadata": {},
     "output_type": "display_data"
    }
   ],
   "source": [
    "import CG.x64.Debug.CG as CG\n",
    "import unittest\n",
    "import numpy as np\n",
    "import time\n",
    "from bokeh.io import output_notebook\n",
    "from bokeh.plotting import figure, show\n",
    "from bokeh.models import ColumnDataSource, Label, LabelSet, Range1d\n",
    "output_notebook()"
   ]
  },
  {
   "cell_type": "code",
   "execution_count": 2,
   "metadata": {},
   "outputs": [],
   "source": [
    "def gen_points(m: int) -> CG.Point2DVector:\n",
    "    x = np.random.rand(m)\n",
    "    y = np.random.rand(m)\n",
    "    res = CG.Point2DVector()\n",
    "    for i in range(len(x)):\n",
    "        res.append(CG.Point2D(x[i], y[i]))\n",
    "    return res"
   ]
  },
  {
   "cell_type": "code",
   "execution_count": 3,
   "metadata": {},
   "outputs": [],
   "source": [
    "def draw_points_2d(points: CG.Point2DVector):\n",
    "    f = figure()\n",
    "    x = [p.x() for p in points]\n",
    "    y = [p.y() for p in points]\n",
    "    f.scatter(x, y)\n",
    "    show(f)\n",
    "    \n",
    "def draw_line_2d(points: CG.Point2DVector):\n",
    "    f = figure()\n",
    "    x = [p.x() for p in points]\n",
    "    y = [p.y() for p in points]\n",
    "    text = [str(i) for i in range(len(x))]\n",
    "    source = ColumnDataSource(data=dict(x=x, y=y, text=text))\n",
    "    labels = LabelSet(x='x', y='y', text='text', text_font_size='10px', source=source, \n",
    "                      x_offset=3, y_offset=3, render_mode='canvas')\n",
    "    f.scatter(x='x',y='y',source=source)\n",
    "    f.line(x, y, line_dash=[4, 4], line_color=\"orange\", line_width=1)\n",
    "    f.add_layout(labels)\n",
    "    show(f)"
   ]
  },
  {
   "cell_type": "code",
   "execution_count": 26,
   "metadata": {},
   "outputs": [],
   "source": [
    "class TestGeomertry(unittest.TestCase):\n",
    "    def test_in_triangle1(self):\n",
    "        # 顺时针排序\n",
    "        p = CG.Point2D(5.0, 0.0)\n",
    "        q = CG.Point2D(0.0, 0.0)\n",
    "        r = CG.Point2D(0.0, 5.0)\n",
    "        self.assertFalse(CG.in_triangle(p, q, r, CG.Point2D(0.0, 0.0)))\n",
    "        self.assertTrue(CG.in_triangle(p, q, r, CG.Point2D(1.0, 1.0)))\n",
    "        self.assertFalse(CG.in_triangle(p, q, r, CG.Point2D(5.0, 5.0))) \n",
    "    def test_in_triangle2(self):\n",
    "        # 逆时针排序\n",
    "        p = CG.Point2D(5.0, 0.0)\n",
    "        q = CG.Point2D(0.0, 5.0)\n",
    "        r = CG.Point2D(0.0, 0.0)\n",
    "        self.assertFalse(CG.in_triangle(p, q, r, CG.Point2D(0.0, 0.0)))\n",
    "        self.assertTrue(CG.in_triangle(p, q, r, CG.Point2D(1.0, 1.0)))\n",
    "        self.assertFalse(CG.in_triangle(p, q, r, CG.Point2D(5.0, 5.0)))\n",
    "    def test_in_convex_polygon(self):\n",
    "        convex_hull = CG.Point2DVector([\n",
    "            CG.Point2D(0.0, 0.0),\n",
    "            CG.Point2D(1.0, 0.0),\n",
    "            CG.Point2D(2.0, 1.0),\n",
    "            CG.Point2D(1.0, 2.0),\n",
    "            CG.Point2D(0.0, 1.0)])\n",
    "        self.assertFalse(CG.in_convex_polygon(convex_hull, CG.Point2D(0.0, 0.0)))\n",
    "        self.assertTrue(CG.in_convex_polygon(convex_hull, CG.Point2D(0.5, 0.5)))\n",
    "    def test_sort_by_angle(self):\n",
    "        pts = gen_points(10)\n",
    "        draw_line_2d(pts)\n",
    "        ordered_pts = CG.sort_by_angle(CG.Point2D(0.0, 0.0), pts)\n",
    "        draw_line_2d(ordered_pts)"
   ]
  },
  {
   "cell_type": "code",
   "execution_count": 28,
   "metadata": {},
   "outputs": [
    {
     "name": "stderr",
     "output_type": "stream",
     "text": [
      "test_in_convex_polygon (__main__.TestGeomertry) ... ok\n",
      "test_in_triangle1 (__main__.TestGeomertry) ... ok\n",
      "test_in_triangle2 (__main__.TestGeomertry) ... ok\n",
      "test_sort_by_angle (__main__.TestGeomertry) ... c:\\Users\\huangyan1\\Desktop\\computational_geometry\\cgenv\\lib\\site-packages\\bokeh\\io\\notebook.py:487: DeprecationWarning: The `source` parameter emit a  deprecation warning since IPython 8.0, it had no effects for a long time and will  be removed in future versions.\n",
      "  publish_display_data(data, metadata, source, transient=transient, **kwargs)\n"
     ]
    },
    {
     "data": {
      "text/html": [
       "\n",
       "  <div class=\"bk-root\" id=\"cc8eaadc-2dfa-4220-9438-75039687e484\" data-root-id=\"5582\"></div>\n"
      ]
     },
     "metadata": {},
     "output_type": "display_data"
    },
    {
     "data": {
      "application/javascript": "(function(root) {\n  function embed_document(root) {\n  const docs_json = {\"42e70038-a96b-4fd3-9ebb-96ece9772985\":{\"defs\":[],\"roots\":{\"references\":[{\"attributes\":{\"below\":[{\"id\":\"5591\"}],\"center\":[{\"id\":\"5594\"},{\"id\":\"5598\"},{\"id\":\"5614\"}],\"left\":[{\"id\":\"5595\"}],\"renderers\":[{\"id\":\"5620\"},{\"id\":\"5626\"}],\"title\":{\"id\":\"5875\"},\"toolbar\":{\"id\":\"5606\"},\"x_range\":{\"id\":\"5583\"},\"x_scale\":{\"id\":\"5587\"},\"y_range\":{\"id\":\"5585\"},\"y_scale\":{\"id\":\"5589\"}},\"id\":\"5582\",\"subtype\":\"Figure\",\"type\":\"Plot\"},{\"attributes\":{},\"id\":\"5878\",\"type\":\"BasicTickFormatter\"},{\"attributes\":{},\"id\":\"5587\",\"type\":\"LinearScale\"},{\"attributes\":{},\"id\":\"5879\",\"type\":\"AllLabels\"},{\"attributes\":{},\"id\":\"5585\",\"type\":\"DataRange1d\"},{\"attributes\":{},\"id\":\"5881\",\"type\":\"BasicTickFormatter\"},{\"attributes\":{},\"id\":\"5583\",\"type\":\"DataRange1d\"},{\"attributes\":{\"bottom_units\":\"screen\",\"coordinates\":null,\"fill_alpha\":0.5,\"fill_color\":\"lightgrey\",\"group\":null,\"left_units\":\"screen\",\"level\":\"overlay\",\"line_alpha\":1.0,\"line_color\":\"black\",\"line_dash\":[4,4],\"line_width\":2,\"right_units\":\"screen\",\"syncable\":false,\"top_units\":\"screen\"},\"id\":\"5605\",\"type\":\"BoxAnnotation\"},{\"attributes\":{\"data\":{\"text\":[\"0\",\"1\",\"2\",\"3\",\"4\",\"5\",\"6\",\"7\",\"8\",\"9\"],\"x\":[0.8180219503025239,0.8482725303430111,0.029438735676825534,0.6902179246357809,0.6765719881154231,0.8483944996767512,0.9027193332095251,0.36445753769175004,0.2713976435180472,0.14668127566670608],\"y\":[0.80488754737881,0.6149388209722655,0.8476087628537321,0.6521855861680272,0.7643304123288819,0.09203447013038402,0.6736483988883237,0.7636136995770239,0.12299003698460409,0.31213387641558155]},\"selected\":{\"id\":\"5884\"},\"selection_policy\":{\"id\":\"5883\"}},\"id\":\"5613\",\"type\":\"ColumnDataSource\"},{\"attributes\":{},\"id\":\"5882\",\"type\":\"AllLabels\"},{\"attributes\":{\"coordinates\":null,\"formatter\":{\"id\":\"5878\"},\"group\":null,\"major_label_policy\":{\"id\":\"5879\"},\"ticker\":{\"id\":\"5596\"}},\"id\":\"5595\",\"type\":\"LinearAxis\"},{\"attributes\":{},\"id\":\"5592\",\"type\":\"BasicTicker\"},{\"attributes\":{},\"id\":\"5589\",\"type\":\"LinearScale\"},{\"attributes\":{\"line_color\":\"orange\",\"line_dash\":[4,4],\"x\":{\"field\":\"x\"},\"y\":{\"field\":\"y\"}},\"id\":\"5623\",\"type\":\"Line\"},{\"attributes\":{\"coordinates\":null,\"formatter\":{\"id\":\"5881\"},\"group\":null,\"major_label_policy\":{\"id\":\"5882\"},\"ticker\":{\"id\":\"5592\"}},\"id\":\"5591\",\"type\":\"LinearAxis\"},{\"attributes\":{\"fill_color\":{\"value\":\"#1f77b4\"},\"line_color\":{\"value\":\"#1f77b4\"},\"x\":{\"field\":\"x\"},\"y\":{\"field\":\"y\"}},\"id\":\"5617\",\"type\":\"Scatter\"},{\"attributes\":{\"source\":{\"id\":\"5622\"}},\"id\":\"5627\",\"type\":\"CDSView\"},{\"attributes\":{\"axis\":{\"id\":\"5591\"},\"coordinates\":null,\"group\":null,\"ticker\":null},\"id\":\"5594\",\"type\":\"Grid\"},{\"attributes\":{\"source\":{\"id\":\"5613\"}},\"id\":\"5621\",\"type\":\"CDSView\"},{\"attributes\":{\"line_alpha\":0.2,\"line_color\":\"orange\",\"line_dash\":[4,4],\"x\":{\"field\":\"x\"},\"y\":{\"field\":\"y\"}},\"id\":\"5625\",\"type\":\"Line\"},{\"attributes\":{\"coordinates\":null,\"group\":null},\"id\":\"5875\",\"type\":\"Title\"},{\"attributes\":{\"data\":{\"x\":[0.8180219503025239,0.8482725303430111,0.029438735676825534,0.6902179246357809,0.6765719881154231,0.8483944996767512,0.9027193332095251,0.36445753769175004,0.2713976435180472,0.14668127566670608],\"y\":[0.80488754737881,0.6149388209722655,0.8476087628537321,0.6521855861680272,0.7643304123288819,0.09203447013038402,0.6736483988883237,0.7636136995770239,0.12299003698460409,0.31213387641558155]},\"selected\":{\"id\":\"5886\"},\"selection_policy\":{\"id\":\"5885\"}},\"id\":\"5622\",\"type\":\"ColumnDataSource\"},{\"attributes\":{},\"id\":\"5885\",\"type\":\"UnionRenderers\"},{\"attributes\":{\"coordinates\":null,\"data_source\":{\"id\":\"5613\"},\"glyph\":{\"id\":\"5617\"},\"group\":null,\"hover_glyph\":null,\"muted_glyph\":{\"id\":\"5619\"},\"nonselection_glyph\":{\"id\":\"5618\"},\"view\":{\"id\":\"5621\"}},\"id\":\"5620\",\"type\":\"GlyphRenderer\"},{\"attributes\":{\"axis\":{\"id\":\"5595\"},\"coordinates\":null,\"dimension\":1,\"group\":null,\"ticker\":null},\"id\":\"5598\",\"type\":\"Grid\"},{\"attributes\":{\"fill_alpha\":{\"value\":0.2},\"fill_color\":{\"value\":\"#1f77b4\"},\"hatch_alpha\":{\"value\":0.2},\"line_alpha\":{\"value\":0.2},\"line_color\":{\"value\":\"#1f77b4\"},\"x\":{\"field\":\"x\"},\"y\":{\"field\":\"y\"}},\"id\":\"5619\",\"type\":\"Scatter\"},{\"attributes\":{},\"id\":\"5596\",\"type\":\"BasicTicker\"},{\"attributes\":{},\"id\":\"5886\",\"type\":\"Selection\"},{\"attributes\":{},\"id\":\"5883\",\"type\":\"UnionRenderers\"},{\"attributes\":{},\"id\":\"5600\",\"type\":\"WheelZoomTool\"},{\"attributes\":{},\"id\":\"5599\",\"type\":\"PanTool\"},{\"attributes\":{\"overlay\":{\"id\":\"5605\"}},\"id\":\"5601\",\"type\":\"BoxZoomTool\"},{\"attributes\":{\"coordinates\":null,\"data_source\":{\"id\":\"5622\"},\"glyph\":{\"id\":\"5623\"},\"group\":null,\"hover_glyph\":null,\"muted_glyph\":{\"id\":\"5625\"},\"nonselection_glyph\":{\"id\":\"5624\"},\"view\":{\"id\":\"5627\"}},\"id\":\"5626\",\"type\":\"GlyphRenderer\"},{\"attributes\":{},\"id\":\"5602\",\"type\":\"SaveTool\"},{\"attributes\":{},\"id\":\"5603\",\"type\":\"ResetTool\"},{\"attributes\":{\"line_alpha\":0.1,\"line_color\":\"orange\",\"line_dash\":[4,4],\"x\":{\"field\":\"x\"},\"y\":{\"field\":\"y\"}},\"id\":\"5624\",\"type\":\"Line\"},{\"attributes\":{\"coordinates\":null,\"group\":null,\"source\":{\"id\":\"5613\"},\"text\":{\"field\":\"text\"},\"text_font_size\":{\"value\":\"10px\"},\"x\":{\"field\":\"x\"},\"x_offset\":{\"value\":3},\"y\":{\"field\":\"y\"},\"y_offset\":{\"value\":3}},\"id\":\"5614\",\"type\":\"LabelSet\"},{\"attributes\":{\"fill_alpha\":{\"value\":0.1},\"fill_color\":{\"value\":\"#1f77b4\"},\"hatch_alpha\":{\"value\":0.1},\"line_alpha\":{\"value\":0.1},\"line_color\":{\"value\":\"#1f77b4\"},\"x\":{\"field\":\"x\"},\"y\":{\"field\":\"y\"}},\"id\":\"5618\",\"type\":\"Scatter\"},{\"attributes\":{},\"id\":\"5604\",\"type\":\"HelpTool\"},{\"attributes\":{\"tools\":[{\"id\":\"5599\"},{\"id\":\"5600\"},{\"id\":\"5601\"},{\"id\":\"5602\"},{\"id\":\"5603\"},{\"id\":\"5604\"}]},\"id\":\"5606\",\"type\":\"Toolbar\"},{\"attributes\":{},\"id\":\"5884\",\"type\":\"Selection\"}],\"root_ids\":[\"5582\"]},\"title\":\"Bokeh Application\",\"version\":\"2.4.3\"}};\n  const render_items = [{\"docid\":\"42e70038-a96b-4fd3-9ebb-96ece9772985\",\"root_ids\":[\"5582\"],\"roots\":{\"5582\":\"cc8eaadc-2dfa-4220-9438-75039687e484\"}}];\n  root.Bokeh.embed.embed_items_notebook(docs_json, render_items);\n  }\n  if (root.Bokeh !== undefined) {\n    embed_document(root);\n  } else {\n    let attempts = 0;\n    const timer = setInterval(function(root) {\n      if (root.Bokeh !== undefined) {\n        clearInterval(timer);\n        embed_document(root);\n      } else {\n        attempts++;\n        if (attempts > 100) {\n          clearInterval(timer);\n          console.log(\"Bokeh: ERROR: Unable to run BokehJS code because BokehJS library is missing\");\n        }\n      }\n    }, 10, root)\n  }\n})(window);",
      "application/vnd.bokehjs_exec.v0+json": ""
     },
     "metadata": {
      "application/vnd.bokehjs_exec.v0+json": {
       "id": "5582"
      }
     },
     "output_type": "display_data"
    },
    {
     "data": {
      "text/html": [
       "\n",
       "  <div class=\"bk-root\" id=\"ea802c34-a6c4-46cd-8cbd-0198ec5a9baf\" data-root-id=\"5953\"></div>\n"
      ]
     },
     "metadata": {},
     "output_type": "display_data"
    },
    {
     "data": {
      "application/javascript": "(function(root) {\n  function embed_document(root) {\n  const docs_json = {\"8e823efa-d399-4647-915e-e11cfc14e101\":{\"defs\":[],\"roots\":{\"references\":[{\"attributes\":{\"below\":[{\"id\":\"5962\"}],\"center\":[{\"id\":\"5965\"},{\"id\":\"5969\"},{\"id\":\"5985\"}],\"left\":[{\"id\":\"5966\"}],\"renderers\":[{\"id\":\"5991\"},{\"id\":\"5997\"}],\"title\":{\"id\":\"6259\"},\"toolbar\":{\"id\":\"5977\"},\"x_range\":{\"id\":\"5954\"},\"x_scale\":{\"id\":\"5958\"},\"y_range\":{\"id\":\"5956\"},\"y_scale\":{\"id\":\"5960\"}},\"id\":\"5953\",\"subtype\":\"Figure\",\"type\":\"Plot\"},{\"attributes\":{\"source\":{\"id\":\"5993\"}},\"id\":\"5998\",\"type\":\"CDSView\"},{\"attributes\":{},\"id\":\"6262\",\"type\":\"BasicTickFormatter\"},{\"attributes\":{},\"id\":\"6269\",\"type\":\"UnionRenderers\"},{\"attributes\":{},\"id\":\"6263\",\"type\":\"AllLabels\"},{\"attributes\":{},\"id\":\"6270\",\"type\":\"Selection\"},{\"attributes\":{\"bottom_units\":\"screen\",\"coordinates\":null,\"fill_alpha\":0.5,\"fill_color\":\"lightgrey\",\"group\":null,\"left_units\":\"screen\",\"level\":\"overlay\",\"line_alpha\":1.0,\"line_color\":\"black\",\"line_dash\":[4,4],\"line_width\":2,\"right_units\":\"screen\",\"syncable\":false,\"top_units\":\"screen\"},\"id\":\"5976\",\"type\":\"BoxAnnotation\"},{\"attributes\":{},\"id\":\"6265\",\"type\":\"BasicTickFormatter\"},{\"attributes\":{\"line_alpha\":0.2,\"line_color\":\"orange\",\"line_dash\":[4,4],\"x\":{\"field\":\"x\"},\"y\":{\"field\":\"y\"}},\"id\":\"5996\",\"type\":\"Line\"},{\"attributes\":{\"overlay\":{\"id\":\"5976\"}},\"id\":\"5972\",\"type\":\"BoxZoomTool\"},{\"attributes\":{\"line_alpha\":0.1,\"line_color\":\"orange\",\"line_dash\":[4,4],\"x\":{\"field\":\"x\"},\"y\":{\"field\":\"y\"}},\"id\":\"5995\",\"type\":\"Line\"},{\"attributes\":{},\"id\":\"5970\",\"type\":\"PanTool\"},{\"attributes\":{},\"id\":\"6266\",\"type\":\"AllLabels\"},{\"attributes\":{\"coordinates\":null,\"group\":null},\"id\":\"6259\",\"type\":\"Title\"},{\"attributes\":{},\"id\":\"5971\",\"type\":\"WheelZoomTool\"},{\"attributes\":{\"line_color\":\"orange\",\"line_dash\":[4,4],\"x\":{\"field\":\"x\"},\"y\":{\"field\":\"y\"}},\"id\":\"5994\",\"type\":\"Line\"},{\"attributes\":{\"data\":{\"text\":[\"0\",\"1\",\"2\",\"3\",\"4\",\"5\",\"6\",\"7\",\"8\",\"9\"],\"x\":[0.8483944996767512,0.2713976435180472,0.8482725303430111,0.9027193332095251,0.6902179246357809,0.8180219503025239,0.6765719881154231,0.36445753769175004,0.14668127566670608,0.029438735676825534],\"y\":[0.09203447013038402,0.12299003698460409,0.6149388209722655,0.6736483988883237,0.6521855861680272,0.80488754737881,0.7643304123288819,0.7636136995770239,0.31213387641558155,0.8476087628537321]},\"selected\":{\"id\":\"6268\"},\"selection_policy\":{\"id\":\"6267\"}},\"id\":\"5984\",\"type\":\"ColumnDataSource\"},{\"attributes\":{\"tools\":[{\"id\":\"5970\"},{\"id\":\"5971\"},{\"id\":\"5972\"},{\"id\":\"5973\"},{\"id\":\"5974\"},{\"id\":\"5975\"}]},\"id\":\"5977\",\"type\":\"Toolbar\"},{\"attributes\":{},\"id\":\"6267\",\"type\":\"UnionRenderers\"},{\"attributes\":{},\"id\":\"5973\",\"type\":\"SaveTool\"},{\"attributes\":{},\"id\":\"5974\",\"type\":\"ResetTool\"},{\"attributes\":{\"fill_color\":{\"value\":\"#1f77b4\"},\"line_color\":{\"value\":\"#1f77b4\"},\"x\":{\"field\":\"x\"},\"y\":{\"field\":\"y\"}},\"id\":\"5988\",\"type\":\"Scatter\"},{\"attributes\":{\"fill_alpha\":{\"value\":0.1},\"fill_color\":{\"value\":\"#1f77b4\"},\"hatch_alpha\":{\"value\":0.1},\"line_alpha\":{\"value\":0.1},\"line_color\":{\"value\":\"#1f77b4\"},\"x\":{\"field\":\"x\"},\"y\":{\"field\":\"y\"}},\"id\":\"5989\",\"type\":\"Scatter\"},{\"attributes\":{},\"id\":\"6268\",\"type\":\"Selection\"},{\"attributes\":{},\"id\":\"5956\",\"type\":\"DataRange1d\"},{\"attributes\":{},\"id\":\"5958\",\"type\":\"LinearScale\"},{\"attributes\":{\"fill_alpha\":{\"value\":0.2},\"fill_color\":{\"value\":\"#1f77b4\"},\"hatch_alpha\":{\"value\":0.2},\"line_alpha\":{\"value\":0.2},\"line_color\":{\"value\":\"#1f77b4\"},\"x\":{\"field\":\"x\"},\"y\":{\"field\":\"y\"}},\"id\":\"5990\",\"type\":\"Scatter\"},{\"attributes\":{\"coordinates\":null,\"formatter\":{\"id\":\"6265\"},\"group\":null,\"major_label_policy\":{\"id\":\"6266\"},\"ticker\":{\"id\":\"5963\"}},\"id\":\"5962\",\"type\":\"LinearAxis\"},{\"attributes\":{\"source\":{\"id\":\"5984\"}},\"id\":\"5992\",\"type\":\"CDSView\"},{\"attributes\":{},\"id\":\"5954\",\"type\":\"DataRange1d\"},{\"attributes\":{\"coordinates\":null,\"group\":null,\"source\":{\"id\":\"5984\"},\"text\":{\"field\":\"text\"},\"text_font_size\":{\"value\":\"10px\"},\"x\":{\"field\":\"x\"},\"x_offset\":{\"value\":3},\"y\":{\"field\":\"y\"},\"y_offset\":{\"value\":3}},\"id\":\"5985\",\"type\":\"LabelSet\"},{\"attributes\":{\"axis\":{\"id\":\"5966\"},\"coordinates\":null,\"dimension\":1,\"group\":null,\"ticker\":null},\"id\":\"5969\",\"type\":\"Grid\"},{\"attributes\":{},\"id\":\"5963\",\"type\":\"BasicTicker\"},{\"attributes\":{\"coordinates\":null,\"data_source\":{\"id\":\"5984\"},\"glyph\":{\"id\":\"5988\"},\"group\":null,\"hover_glyph\":null,\"muted_glyph\":{\"id\":\"5990\"},\"nonselection_glyph\":{\"id\":\"5989\"},\"view\":{\"id\":\"5992\"}},\"id\":\"5991\",\"type\":\"GlyphRenderer\"},{\"attributes\":{\"axis\":{\"id\":\"5962\"},\"coordinates\":null,\"group\":null,\"ticker\":null},\"id\":\"5965\",\"type\":\"Grid\"},{\"attributes\":{\"data\":{\"x\":[0.8483944996767512,0.2713976435180472,0.8482725303430111,0.9027193332095251,0.6902179246357809,0.8180219503025239,0.6765719881154231,0.36445753769175004,0.14668127566670608,0.029438735676825534],\"y\":[0.09203447013038402,0.12299003698460409,0.6149388209722655,0.6736483988883237,0.6521855861680272,0.80488754737881,0.7643304123288819,0.7636136995770239,0.31213387641558155,0.8476087628537321]},\"selected\":{\"id\":\"6270\"},\"selection_policy\":{\"id\":\"6269\"}},\"id\":\"5993\",\"type\":\"ColumnDataSource\"},{\"attributes\":{},\"id\":\"5960\",\"type\":\"LinearScale\"},{\"attributes\":{\"coordinates\":null,\"formatter\":{\"id\":\"6262\"},\"group\":null,\"major_label_policy\":{\"id\":\"6263\"},\"ticker\":{\"id\":\"5967\"}},\"id\":\"5966\",\"type\":\"LinearAxis\"},{\"attributes\":{},\"id\":\"5975\",\"type\":\"HelpTool\"},{\"attributes\":{},\"id\":\"5967\",\"type\":\"BasicTicker\"},{\"attributes\":{\"coordinates\":null,\"data_source\":{\"id\":\"5993\"},\"glyph\":{\"id\":\"5994\"},\"group\":null,\"hover_glyph\":null,\"muted_glyph\":{\"id\":\"5996\"},\"nonselection_glyph\":{\"id\":\"5995\"},\"view\":{\"id\":\"5998\"}},\"id\":\"5997\",\"type\":\"GlyphRenderer\"}],\"root_ids\":[\"5953\"]},\"title\":\"Bokeh Application\",\"version\":\"2.4.3\"}};\n  const render_items = [{\"docid\":\"8e823efa-d399-4647-915e-e11cfc14e101\",\"root_ids\":[\"5953\"],\"roots\":{\"5953\":\"ea802c34-a6c4-46cd-8cbd-0198ec5a9baf\"}}];\n  root.Bokeh.embed.embed_items_notebook(docs_json, render_items);\n  }\n  if (root.Bokeh !== undefined) {\n    embed_document(root);\n  } else {\n    let attempts = 0;\n    const timer = setInterval(function(root) {\n      if (root.Bokeh !== undefined) {\n        clearInterval(timer);\n        embed_document(root);\n      } else {\n        attempts++;\n        if (attempts > 100) {\n          clearInterval(timer);\n          console.log(\"Bokeh: ERROR: Unable to run BokehJS code because BokehJS library is missing\");\n        }\n      }\n    }, 10, root)\n  }\n})(window);",
      "application/vnd.bokehjs_exec.v0+json": ""
     },
     "metadata": {
      "application/vnd.bokehjs_exec.v0+json": {
       "id": "5953"
      }
     },
     "output_type": "display_data"
    },
    {
     "name": "stderr",
     "output_type": "stream",
     "text": [
      "ok\n",
      "\n",
      "----------------------------------------------------------------------\n",
      "Ran 4 tests in 0.281s\n",
      "\n",
      "OK\n"
     ]
    }
   ],
   "source": [
    "res = unittest.main(argv=[''], verbosity=2, exit=False)"
   ]
  },
  {
   "cell_type": "code",
   "execution_count": null,
   "metadata": {},
   "outputs": [],
   "source": []
  }
 ],
 "metadata": {
  "kernelspec": {
   "display_name": "Python 3.9.12 ('cgenv': venv)",
   "language": "python",
   "name": "python3"
  },
  "language_info": {
   "codemirror_mode": {
    "name": "ipython",
    "version": 3
   },
   "file_extension": ".py",
   "mimetype": "text/x-python",
   "name": "python",
   "nbconvert_exporter": "python",
   "pygments_lexer": "ipython3",
   "version": "3.9.12"
  },
  "orig_nbformat": 4,
  "vscode": {
   "interpreter": {
    "hash": "18d3202d6930b34e50a9d9d322cd9886a5675ff0c7b28b48dc477049568f5428"
   }
  }
 },
 "nbformat": 4,
 "nbformat_minor": 2
}
